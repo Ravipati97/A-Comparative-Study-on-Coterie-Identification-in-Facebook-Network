{
 "cells": [
  {
   "cell_type": "code",
   "execution_count": 61,
   "metadata": {
    "collapsed": true
   },
   "outputs": [],
   "source": [
    "import networkx as nx\n",
    "import os\n",
    "import xgboost"
   ]
  },
  {
   "cell_type": "code",
   "execution_count": 58,
   "metadata": {},
   "outputs": [],
   "source": [
    "# list files\n",
    "\n",
    "files = []\n",
    "rootdir = 'dataset/facebook'\n",
    "for root, dirnames, filenames in os.walk(rootdir):\n",
    "    for f in filenames:\n",
    "        files.append(os.path.join(rootdir, f))"
   ]
  },
  {
   "cell_type": "code",
   "execution_count": 59,
   "metadata": {},
   "outputs": [],
   "source": [
    "ego_lst = {}\n",
    "graph = nx.Graph()\n",
    "for f in files:\n",
    "    if f.endswith('edges'):\n",
    "        tmp_graph = nx.read_edgelist(f)\n",
    "        ego_node = f.strip().split('/')[-1].split('.')[0]\n",
    "        tmp_graph.add_node(ego_node)\n",
    "        nodes = tmp_graph.nodes()\n",
    "        for node in nodes:\n",
    "            tmp_graph.add_edge(ego_node, node)\n",
    "        ego_lst[ego_node] = tmp_graph\n",
    "        graph.add_edges_from(tmp_graph.edges())"
   ]
  },
  {
   "cell_type": "code",
   "execution_count": 60,
   "metadata": {},
   "outputs": [
    {
     "name": "stdout",
     "output_type": "stream",
     "text": [
      "3963\n",
      "88166\n"
     ]
    }
   ],
   "source": [
    "print graph.number_of_nodes()\n",
    "print graph.number_of_edges()"
   ]
  },
  {
   "cell_type": "code",
   "execution_count": null,
   "metadata": {
    "collapsed": true
   },
   "outputs": [],
   "source": []
  }
 ],
 "metadata": {
  "kernelspec": {
   "display_name": "Python 3",
   "language": "python",
   "name": "python3"
  },
  "language_info": {
   "codemirror_mode": {
    "name": "ipython",
    "version": 3
   },
   "file_extension": ".py",
   "mimetype": "text/x-python",
   "name": "python",
   "nbconvert_exporter": "python",
   "pygments_lexer": "ipython3",
   "version": "3.7.0"
  }
 },
 "nbformat": 4,
 "nbformat_minor": 1
}
