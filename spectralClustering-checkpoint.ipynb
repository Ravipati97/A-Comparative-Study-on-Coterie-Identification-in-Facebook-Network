{
 "cells": [
  {
   "cell_type": "code",
   "execution_count": 10,
   "metadata": {
    "collapsed": true
   },
   "outputs": [],
   "source": [
    "import networkx as nx\n",
    "import community\n",
    "import matplotlib.pyplot as plt"
   ]
  },
  {
   "cell_type": "code",
   "execution_count": 14,
   "metadata": {},
   "outputs": [],
   "source": [
    "G = nx.Graph()\n",
    "fpath = \"./facebook/\"\n",
    "egos = ['0','107','348','414','686','698','1684','1912','3437','3980']\n",
    "node2Circle = {}\n",
    "circle2Node = {}\n",
    "#nodesPerCircle = [(1,)]"
   ]
  },
  {
   "cell_type": "code",
   "execution_count": 15,
   "metadata": {},
   "outputs": [],
   "source": [
    "###    generate the graph\n",
    "for ego in egos:\n",
    "    e = int(ego)\n",
    "    nodeLst = []\n",
    "    node2Circle[e] = e\n",
    "    \n",
    "    edgeFile = fpath + ego +'.edges'\n",
    "    f = open(edgeFile,'r')\n",
    "    for line in f:\n",
    "        m = line.split()\n",
    "        fn = int(m[0])\n",
    "        tn = int(m[1])\n",
    "        G.add_edge(fn,tn)\n",
    "    f.close()\n",
    "    \n",
    "    nodeFile = fpath + ego +'.feat'\n",
    "    f = open(nodeFile,'r')\n",
    "    for line in f:\n",
    "        nodeLst.append(int(line.split()[0]))\n",
    "    for n in nodeLst:\n",
    "        node2Circle[n]=e\n",
    "        if e==n: pass\n",
    "        G.add_edge(e,n)\n",
    "    f.close()"
   ]
  },
  {
   "cell_type": "code",
   "execution_count": 13,
   "metadata": {},
   "outputs": [
    {
     "name": "stdout",
     "output_type": "stream",
     "text": [
      "number of nodes:  4039\n",
      "number of edges:  88234\n",
      "number of traingles:  2718247\n"
     ]
    }
   ],
   "source": [
    "###   basic information about the graph\n",
    "numNodes = len(G.nodes())\n",
    "numEdges = len(G.edges())\n",
    "numTri = sum(nx.triangles(G))/3\n",
    "print \"number of nodes: \",numNodes\n",
    "print \"number of edges: \",numEdges\n",
    "print \"number of traingles: \",numTri"
   ]
  },
  {
   "cell_type": "code",
   "execution_count": 17,
   "metadata": {},
   "outputs": [
    {
     "name": "stdout",
     "output_type": "stream",
     "text": [
      "modularity of ground truth partition is:  0.694663670248\n"
     ]
    }
   ],
   "source": [
    "###  modularity\n",
    "mod = community.modularity(node2Circle,G)\n",
    "print \"modularity of ground truth partition is: \",mod"
   ]
  },
  {
   "cell_type": "code",
   "execution_count": 19,
   "metadata": {},
   "outputs": [
    {
     "name": "stdout",
     "output_type": "stream",
     "text": [
      "modularity of community.best_partition:  0.83497475803\n"
     ]
    }
   ],
   "source": [
    "#  compute the best partition by Louvain Algorithm\n",
    "partition = community.best_partition(G)\n",
    "\n",
    "#  modularity\n",
    "mod2 = community.modularity(partition,G)\n",
    "print \"modularity of community.best_partition: \",mod2"
   ]
  },
  {
   "cell_type": "code",
   "execution_count": null,
   "metadata": {
    "collapsed": true
   },
   "outputs": [],
   "source": [
    "###  spectral clustering"
   ]
  }
 ],
 "metadata": {
  "kernelspec": {
   "display_name": "Python 3",
   "language": "python",
   "name": "python3"
  },
  "language_info": {
   "codemirror_mode": {
    "name": "ipython",
    "version": 3
   },
   "file_extension": ".py",
   "mimetype": "text/x-python",
   "name": "python",
   "nbconvert_exporter": "python",
   "pygments_lexer": "ipython3",
   "version": "3.7.0"
  }
 },
 "nbformat": 4,
 "nbformat_minor": 1
}
