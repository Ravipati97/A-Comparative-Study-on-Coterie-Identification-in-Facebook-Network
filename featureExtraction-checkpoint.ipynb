{
 "cells": [
  {
   "cell_type": "code",
   "execution_count": 3,
   "metadata": {
    "collapsed": true
   },
   "outputs": [],
   "source": [
    "import os\n",
    "import os.path\n",
    "import gzip\n",
    "import re\n",
    "import numpy as np"
   ]
  },
  {
   "cell_type": "code",
   "execution_count": 4,
   "metadata": {
    "collapsed": true
   },
   "outputs": [],
   "source": [
    "def read_gz_file(path):  \n",
    "    if os.path.exists(path):  \n",
    "        with gzip.open(path, 'r') as pf:  \n",
    "            for line in pf:  \n",
    "                yield line  \n",
    "    else:  \n",
    "        print('the path [{}] is not exist!'.format(path)) "
   ]
  },
  {
   "cell_type": "code",
   "execution_count": 5,
   "metadata": {
    "collapsed": true
   },
   "outputs": [],
   "source": [
    "fpath = \"./facebook/\"\n",
    "egos = ['0','107','348','414','686','698','1684','1912','3437','3980']\n",
    "nodeNum = 4039"
   ]
  },
  {
   "cell_type": "code",
   "execution_count": 13,
   "metadata": {},
   "outputs": [],
   "source": [
    "###  feature name and its id\n",
    "feat2Idx = {}\n",
    "idx = 0\n",
    "for ego in egos:\n",
    "    featureFile = fpath+ego+\".featnames\"\n",
    "    f = open(featureFile,'r')\n",
    "    for line in f:\n",
    "        #print line\n",
    "        feat = ' '.join(line.split()[1:])\n",
    "        if feat not in feat2Idx:\n",
    "#             print feat\n",
    "            feat2Idx[feat] = idx\n",
    "            idx += 1\n",
    "    f.close()\n",
    "\n",
    "        "
   ]
  },
  {
   "cell_type": "code",
   "execution_count": 12,
   "metadata": {},
   "outputs": [
    {
     "data": {
      "text/plain": [
       "1406"
      ]
     },
     "execution_count": 12,
     "metadata": {},
     "output_type": "execute_result"
    }
   ],
   "source": [
    "### number of feature\n",
    "sizeFeature = len(feat2Idx.keys())\n",
    "print sizeFeature"
   ]
  },
  {
   "cell_type": "code",
   "execution_count": 14,
   "metadata": {
    "collapsed": true
   },
   "outputs": [],
   "source": [
    "###  get feature of each node\n",
    "featureOfNode = {}\n",
    "for i in range(nodeNum):\n",
    "    featureOfNode[i]=[0]*sizeFeature\n",
    "\n",
    "for ego in egos:\n",
    "    featureFile = fpath+ego+\".featnames\"\n",
    "    fMap = []\n",
    "    f = open(featureFile,'r')\n",
    "    for line in f:\n",
    "        feat = ' '.join(line.split()[1:])\n",
    "        fMap.append(feat2Idx[feat])\n",
    "    f.close()\n",
    "    \n",
    "    featureOfNodeFile = fpath+ego+\".feat\"\n",
    "    f = open(featureOfNodeFile,'r')\n",
    "    for line in f:\n",
    "        m = line.split()\n",
    "        node = int(m[0])\n",
    "        for i in range(1,len(m)):\n",
    "            if (m[i]=='1'):\n",
    "                featureOfNode[node][fMap[i-1]] = 1\n",
    "    f.close()\n",
    "    \n",
    "    featureOfEgoFile = fpath+ego+\".egofeat\"\n",
    "    f = open(featureOfEgoFile,'r')\n",
    "    for line in f:\n",
    "        m = line.split()\n",
    "        node = int(m[0])\n",
    "        for i in range(1,len(m)):\n",
    "            if (m[i]=='1'):\n",
    "                featureOfNode[node][fMap[i-1]] = 1\n",
    "    f.close()"
   ]
  },
  {
   "cell_type": "code",
   "execution_count": 18,
   "metadata": {
    "collapsed": true
   },
   "outputs": [],
   "source": [
    "### write to file\n",
    "lines = []\n",
    "for i in range(len(featureOfNode)):\n",
    "    s = \"\"\n",
    "    s += str(i)\n",
    "    for feat in featureOfNode[i]:\n",
    "        s = s+' '+str(feat)\n",
    "    s+='\\n'\n",
    "    lines.append(s)\n",
    "featureOfNodeFile = fpath+'feature.txt'\n",
    "f = open(featureOfNodeFile,'w')\n",
    "f.writelines(lines)\n",
    "f.close()\n"
   ]
  },
  {
   "cell_type": "code",
   "execution_count": 17,
   "metadata": {},
   "outputs": [
    {
     "data": {
      "text/plain": [
       "1406"
      ]
     },
     "execution_count": 17,
     "metadata": {},
     "output_type": "execute_result"
    }
   ],
   "source": [
    "len(featureOfNode.values()[0])"
   ]
  },
  {
   "cell_type": "code",
   "execution_count": null,
   "metadata": {
    "collapsed": true
   },
   "outputs": [],
   "source": []
  }
 ],
 "metadata": {
  "kernelspec": {
   "display_name": "Python 3",
   "language": "python",
   "name": "python3"
  },
  "language_info": {
   "codemirror_mode": {
    "name": "ipython",
    "version": 3
   },
   "file_extension": ".py",
   "mimetype": "text/x-python",
   "name": "python",
   "nbconvert_exporter": "python",
   "pygments_lexer": "ipython3",
   "version": "3.7.0"
  }
 },
 "nbformat": 4,
 "nbformat_minor": 2
}
