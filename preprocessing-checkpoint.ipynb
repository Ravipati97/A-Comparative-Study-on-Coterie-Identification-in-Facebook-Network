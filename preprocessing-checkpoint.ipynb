{
 "cells": [
  {
   "cell_type": "code",
   "execution_count": 40,
   "metadata": {
    "collapsed": true
   },
   "outputs": [],
   "source": [
    "import os\n",
    "import numpy as np\n",
    "from sklearn.decomposition import PCA"
   ]
  },
  {
   "cell_type": "code",
   "execution_count": 41,
   "metadata": {
    "collapsed": true
   },
   "outputs": [],
   "source": [
    "feat_path = './dataset/facebook/feature.txt'\n",
    "with open(feat_path, 'r') as f:\n",
    "    lines = f.readlines()\n",
    "feats = [[int(item) for item in line.strip().split()[1:]] for line in lines]"
   ]
  },
  {
   "cell_type": "code",
   "execution_count": 42,
   "metadata": {},
   "outputs": [],
   "source": [
    "# PCA\n",
    "feats = np.array(feats)\n",
    "pca = PCA(n_components=300)\n",
    "pca.fit(feats)\n",
    "pca_feat = pca.transform(feats)"
   ]
  },
  {
   "cell_type": "code",
   "execution_count": 43,
   "metadata": {},
   "outputs": [
    {
     "name": "stdout",
     "output_type": "stream",
     "text": [
      "6.81375038534\n",
      "6.12828682792\n",
      "0.899399960572\n"
     ]
    }
   ],
   "source": [
    "def compute_var(feat):\n",
    "    feat = np.transpose(feat)\n",
    "    dim_var = [np.var(item) for item in feat]\n",
    "    return np.sum(dim_var)\n",
    "\n",
    "all_var = compute_var(feats)\n",
    "pca_var = compute_var(pca_feat)\n",
    "print all_var\n",
    "print pca_var\n",
    "print pca_var / all_var"
   ]
  },
  {
   "cell_type": "code",
   "execution_count": 44,
   "metadata": {},
   "outputs": [],
   "source": [
    "def compute_similarity(vec1, vec2):\n",
    "    nomi = np.dot(vec1, vec2)\n",
    "    if nomi == 0:\n",
    "        return 0\n",
    "    deno = np.linalg.norm(vec1) * np.linalg.norm(vec2)\n",
    "    return nomi / deno\n",
    "\n",
    "# for i in range(0, 10):\n",
    "#     for j in range(0, 10):\n",
    "#         print compute_similarity(pca_feat[i], pca_feat[j])"
   ]
  },
  {
   "cell_type": "code",
   "execution_count": 45,
   "metadata": {},
   "outputs": [],
   "source": [
    "# output pca feat\n",
    "out_path = './dataset/pca_feat.txt'\n",
    "with open(out_path, 'w') as f:\n",
    "    cnt = 0\n",
    "    for line in pca_feat:\n",
    "        tmp_line = [str(item) for item in line]\n",
    "        tmp = (' ').join(tmp_line)\n",
    "        f.write(str(cnt) + ' ')\n",
    "        f.write(tmp)\n",
    "        f.write('\\n')\n",
    "        cnt += 1"
   ]
  },
  {
   "cell_type": "code",
   "execution_count": null,
   "metadata": {
    "collapsed": true
   },
   "outputs": [],
   "source": []
  }
 ],
 "metadata": {
  "kernelspec": {
   "display_name": "Python 3",
   "language": "python",
   "name": "python3"
  },
  "language_info": {
   "codemirror_mode": {
    "name": "ipython",
    "version": 3
   },
   "file_extension": ".py",
   "mimetype": "text/x-python",
   "name": "python",
   "nbconvert_exporter": "python",
   "pygments_lexer": "ipython3",
   "version": "3.7.0"
  }
 },
 "nbformat": 4,
 "nbformat_minor": 2
}
